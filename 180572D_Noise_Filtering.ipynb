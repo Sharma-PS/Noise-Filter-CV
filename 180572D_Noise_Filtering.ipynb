{
 "cells": [
  {
   "attachments": {},
   "cell_type": "markdown",
   "metadata": {},
   "source": [
    "### Implement python code for the following filters\n",
    "1.Mean filter\n",
    "2.Median filter\n",
    "3.Mid-point filter\n",
    "\n",
    "Filtering function should implement an NxN kernel where N=3 should be the default.  Use image wrapping for the edge pixels\n",
    "Programme should automatically read all JPEG files in the home directory and produce an output with the filter name appended and on the same directory "
   ]
  },
  {
   "attachments": {},
   "cell_type": "markdown",
   "metadata": {},
   "source": [
    "#### Import"
   ]
  },
  {
   "cell_type": "code",
   "execution_count": null,
   "metadata": {},
   "outputs": [],
   "source": [
    "import numpy as np\n",
    "import matplotlib.pyplot as plt\n",
    "import cv2\n",
    "import os\n",
    "%matplotlib inline"
   ]
  },
  {
   "attachments": {},
   "cell_type": "markdown",
   "metadata": {},
   "source": [
    "#### Global var"
   ]
  },
  {
   "cell_type": "code",
   "execution_count": 3,
   "metadata": {},
   "outputs": [
    {
     "name": "stdout",
     "output_type": "stream",
     "text": [
      "True\n"
     ]
    }
   ],
   "source": [
    "HOME_DIR = \"home\"\n",
    "kernelSize = input(\"Kernel size (default 3) : \")\n",
    "if kernelSize == \"\":\n",
    "    kernelSize = 3\n",
    "else:\n",
    "    kernelSize = int(kernelSize)"
   ]
  },
  {
   "attachments": {},
   "cell_type": "markdown",
   "metadata": {},
   "source": [
    "#### Open all images"
   ]
  },
  {
   "cell_type": "code",
   "execution_count": null,
   "metadata": {},
   "outputs": [],
   "source": [
    "def load_images_from_folder(folder : str):\n",
    "    images = []\n",
    "    imagesName = []\n",
    "    for filename in os.listdir(folder):\n",
    "        img = cv2.imread(os.path.join(folder,filename))\n",
    "        if img is not None:\n",
    "            images.append(img)\n",
    "            imagesName.append(filename.split(\".\")[0])\n",
    "    return images, imagesName"
   ]
  },
  {
   "cell_type": "code",
   "execution_count": null,
   "metadata": {},
   "outputs": [],
   "source": [
    "images, imagesName = load_images_from_folder(HOME_DIR)\n",
    "for img in images:\n",
    "    plt.imshow(img)\n",
    "    plt.show()"
   ]
  },
  {
   "cell_type": "code",
   "execution_count": null,
   "metadata": {},
   "outputs": [],
   "source": [
    "def wrappingImage(img, kernelSize : int):\n",
    "    ### width of the mask\n",
    "    w = kernelSize // 2\n",
    "\n",
    "    # Fetch First Rows of for wrapping\n",
    "    fetchFirstRows = img[0 : w , :]\n",
    "    fetchLastRows = img[-w : , : ]\n",
    "    \n",
    "    imgWrapped = img.copy()\n",
    "    imgWrapped = np.insert(imgWrapped, 0, fetchLastRows, axis=0)\n",
    "    imgWrapped = np.append(imgWrapped, fetchFirstRows, axis = 0)\n",
    "    \n",
    "    ### Fetch First and Last Colsfro wrapping\n",
    "    fetchFirstCols = imgWrapped[:, 0 : w]\n",
    "    fetchLastCols = imgWrapped[:, -w : ]\n",
    "    imgWrapped = np.concatenate([fetchLastCols,imgWrapped], axis=1)\n",
    "    imgWrapped = np.append(imgWrapped, fetchFirstCols, axis = 1)\n",
    "\n",
    "    return imgWrapped"
   ]
  },
  {
   "cell_type": "code",
   "execution_count": null,
   "metadata": {},
   "outputs": [],
   "source": [
    "def meanFilter(orginalImg, wrappedImage, kernelSize : int):\n",
    "    filteredImage = np.zeros(orginalImg.shape,dtype=np.int32)\n",
    "    image_h, image_w = orginalImg.shape[0], orginalImg.shape[1]\n",
    "\n",
    "    w = kernelSize//2\n",
    "\n",
    "    for i in range(w, image_h - w): ## traverse image row\n",
    "        for j in range(w, image_w - w):  ## traverse image col \n",
    "            total = [0,0,0]\n",
    "            for m in range(kernelSize):\n",
    "                for n in range(kernelSize):\n",
    "                    total += wrappedImage[i-w+m][j-w+n]\n",
    "            filteredImage[i-w][j-w] = total // (kernelSize * kernelSize)\n",
    "    return filteredImage\n"
   ]
  },
  {
   "cell_type": "code",
   "execution_count": null,
   "metadata": {},
   "outputs": [],
   "source": [
    "def medianFilter(orginalImg, wrappedImage, kernelSize : int):\n",
    "    filteredImage = np.zeros(orginalImg.shape,dtype=np.int32)\n",
    "    image_h, image_w = orginalImg.shape[0], orginalImg.shape[1]\n",
    "\n",
    "    w = kernelSize//2\n",
    "\n",
    "    for i in range(w, image_h - w): ## traverse image row\n",
    "        for j in range(w, image_w - w):  ## traverse image col \n",
    "\n",
    "            overlapImg = wrappedImage[i-w : i+w+1, j-w : j+w+1 ]    # Crop image for mask product         \n",
    "            filteredImage[i][j] = np.median(overlapImg.reshape(-1, 3), axis=0)  # Filtering\n",
    "            \n",
    "    return filteredImage"
   ]
  },
  {
   "cell_type": "code",
   "execution_count": null,
   "metadata": {},
   "outputs": [],
   "source": [
    "def midPointFilter(orginalImg, wrappedImage, kernelSize : int):\n",
    "    filteredImage = np.zeros(orginalImg.shape,dtype=np.int32)\n",
    "    image_h, image_w = orginalImg.shape[0], orginalImg.shape[1]\n",
    "\n",
    "    w = kernelSize//2\n",
    "\n",
    "    for i in range(w, image_h - w): ## traverse image row\n",
    "        for j in range(w, image_w - w):  ## traverse image col \n",
    "\n",
    "            overlapImg = wrappedImage[i-w : i+w+1, j-w : j+w+1 ]    # Crop image for mask product         \n",
    "            # change the dtype to 'int32' for add purpose\n",
    "            overlapImg = overlapImg.astype('int32')   \n",
    "            maxVal = np.max(overlapImg.reshape(-1, 3), axis=0)\n",
    "            minVal = np.min(overlapImg.reshape(-1, 3), axis=0)\n",
    "            filteredImage[i][j] = np.add(maxVal, minVal) // 2\n",
    "            \n",
    "    return filteredImage"
   ]
  },
  {
   "cell_type": "code",
   "execution_count": null,
   "metadata": {},
   "outputs": [],
   "source": [
    "def saveImage(fileName : str, img):\n",
    "    path = HOME_DIR + \"/\" + fileName + \".jpg\"\n",
    "    cv2.imwrite(path, img)"
   ]
  },
  {
   "cell_type": "code",
   "execution_count": null,
   "metadata": {},
   "outputs": [],
   "source": [
    "## iterate all images to apply filter\n",
    "for idx, image in enumerate(images):\n",
    "    ### Wrap the image\n",
    "    wrappedImg = wrappingImage(image, kernelSize)\n",
    "    ## mean filter image\n",
    "    meanFilteredImg = meanFilter(image, wrappedImg, kernelSize)\n",
    "    saveImage(imagesName[idx] + \"meanFilter\", meanFilteredImg)\n",
    "    ## median filter image\n",
    "    medianFilteredImg = medianFilter(image, wrappedImg, kernelSize)\n",
    "    saveImage(imagesName[idx] + \"medianFilter\", medianFilteredImg)\n",
    "    ## mean filter image\n",
    "    midPointFilteredImg = midPointFilter(image, wrappedImg, kernelSize)\n",
    "    saveImage(imagesName[idx] + \"midPointFilter\", midPointFilteredImg)"
   ]
  }
 ],
 "metadata": {
  "kernelspec": {
   "display_name": "Python 3",
   "language": "python",
   "name": "python3"
  },
  "language_info": {
   "codemirror_mode": {
    "name": "ipython",
    "version": 3
   },
   "file_extension": ".py",
   "mimetype": "text/x-python",
   "name": "python",
   "nbconvert_exporter": "python",
   "pygments_lexer": "ipython3",
   "version": "3.8.0"
  },
  "orig_nbformat": 4,
  "vscode": {
   "interpreter": {
    "hash": "bcc88a5c2b6accdcaf39c87a931cb715cc1ab684beb32819a99a5a377f971b8d"
   }
  }
 },
 "nbformat": 4,
 "nbformat_minor": 2
}
